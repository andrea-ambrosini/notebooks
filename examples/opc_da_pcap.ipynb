{
 "cells": [
  {
   "cell_type": "code",
   "execution_count": 65,
   "id": "2f9e225c-4b36-4d21-85f9-cb7653a99f72",
   "metadata": {
    "tags": []
   },
   "outputs": [
    {
     "name": "stdout",
     "output_type": "stream",
     "text": [
      "Requirement already satisfied: scapy in /opt/conda/lib/python3.10/site-packages (2.5.0)\n"
     ]
    }
   ],
   "source": [
    "!pip install scapy"
   ]
  },
  {
   "cell_type": "code",
   "execution_count": 66,
   "id": "6e4300b7-1c4f-489f-bc22-36d1537657fd",
   "metadata": {
    "tags": []
   },
   "outputs": [],
   "source": [
    "from scapy.all import *\n",
    "from scapy.contrib.opc_da import *"
   ]
  },
  {
   "cell_type": "code",
   "execution_count": 89,
   "id": "10ba3c98-3133-4d40-a7f4-9873e15b4d09",
   "metadata": {
    "tags": []
   },
   "outputs": [],
   "source": [
    "scapy_cap = rdpcap('/home/jovyan/work/230404_sergnano_muletto_1onlytag_oser_qv_ler11.pcapng')\n",
    "#scapy_cap = rdpcap('/home/jovyan/work/opcda_session_complete.pcapng')\n",
    "#scapy_cap = rdpcap('/home/jovyan/work/syncopcda.pcapng')\n",
    "server_ip = \"10.26.0.210\"\n",
    "#server_ip = \"192.168.0.112\""
   ]
  },
  {
   "cell_type": "code",
   "execution_count": 141,
   "id": "b8193f3c-a8c5-4f91-b1fc-720e967c5d0b",
   "metadata": {
    "tags": []
   },
   "outputs": [
    {
     "name": "stdout",
     "output_type": "stream",
     "text": [
      "\n",
      "client message from 10.64.94.3\n",
      "\n",
      "sender 10.26.0.210 \n",
      "header -> {'versionMajor': 0, 'versionMinor': 9, 'pduType': 15, 'pfc_flags': <Flag 9 (firstFragment+reserved)>, 'integerRepresentation': 8, 'characterRepresentation': 0, 'floatingPointRepresentation': 10, 'res': 12} \n",
      "\n",
      "0000  00 09 0F 09 80 0A 00 0C 29 A8 97 24 08 00 45 00  ........)..$..E.\n",
      "0010  00 9C 6C C7 40 00 80 06 00 00 0A 1A 00 D2 0A 40  ..l.@..........@\n",
      "0020  5E 03 C0 5F D0 14 1E 49 10 D3 A1 25 B7 79 80 18  ^.._...I...%.y..\n",
      "0030  01 FE 73 BD 00 00 01 01 08 0A 06 95 3B FF 01 91  ..s.........;...\n",
      "0040  7A A5 05 00 02 03 10 00 00 00 68 00 00 00 37 85  z.........h...7.\n",
      "0050  03 00 50 00 00 00 03 00 00 00 00 00 00 00 00 00  ..P.............\n",
      "0060  00 00 00 00 02 00 01 00 00 00 1E 54 78 41 00 61  ...........TxA.a\n",
      "0070  E1 29 CF 66 D9 01 C0 00 00 00 55 73 65 72 00 00  .).f......User..\n",
      "0080  00 00 03 00 00 00 00 00 00 00 04 00 19 02 0B 00  ................\n",
      "0090  00 00 04 00 00 00 BC CE 29 48 04 00 02 00 01 00  ........)H......\n",
      "00a0  00 00 00 00 00 00 00 00 00 00                    ..........\n",
      "None\n",
      "\n",
      " => {'allocHint': 593673, 'contextId': 32778, 'cancelCount': 0, 'reserved': 12, 'stubData': b')\\xa8\\x97$\\x08\\x00E\\x00\\x00\\x9cl\\xc7@\\x00\\x80\\x06\\x00\\x00\\n\\x1a\\x00\\xd2\\n@^\\x03\\xc0_\\xd0\\x14\\x1eI\\x10\\xd3\\xa1%\\xb7y\\x80\\x18\\x01\\xfes\\xbd\\x00\\x00\\x01\\x01\\x08\\n\\x06\\x95;\\xff\\x01\\x91z\\xa5\\x05\\x00\\x02\\x03\\x10\\x00\\x00\\x00h\\x00\\x00\\x007\\x85\\x03\\x00P\\x00\\x00\\x00\\x03\\x00\\x00\\x00\\x00\\x00\\x00\\x00\\x00\\x00\\x00\\x00\\x00\\x00\\x02\\x00\\x01\\x00\\x00\\x00\\x1eTxA\\x00a\\xe1)\\xcff\\xd9\\x01\\xc0\\x00\\x00\\x00User\\x00\\x00\\x00\\x00\\x03\\x00\\x00\\x00\\x00\\x00\\x00\\x00\\x04\\x00\\x19\\x02\\x0b\\x00\\x00\\x00\\x04\\x00\\x00\\x00\\xbc\\xce)H\\x04\\x00\\x02\\x00\\x01\\x00\\x00\\x00\\x00\\x00\\x00\\x00\\x00\\x00\\x00\\x00'}\n",
      "0000  29 A8 97 24 08 00 45 00 00 9C 6C C7 40 00 80 06  )..$..E...l.@...\n",
      "0010  00 00 0A 1A 00 D2 0A 40 5E 03 C0 5F D0 14 1E 49  .......@^.._...I\n",
      "0020  10 D3 A1 25 B7 79 80 18 01 FE 73 BD 00 00 01 01  ...%.y....s.....\n",
      "0030  08 0A 06 95 3B FF 01 91 7A A5 05 00 02 03 10 00  ....;...z.......\n",
      "0040  00 00 68 00 00 00 37 85 03 00 50 00 00 00 03 00  ..h...7...P.....\n",
      "0050  00 00 00 00 00 00 00 00 00 00 00 00 02 00 01 00  ................\n",
      "0060  00 00 1E 54 78 41 00 61 E1 29 CF 66 D9 01 C0 00  ...TxA.a.).f....\n",
      "0070  00 00 55 73 65 72 00 00 00 00 03 00 00 00 00 00  ..User..........\n",
      "0080  00 00 04 00 19 02 0B 00 00 00 04 00 00 00 BC CE  ................\n",
      "0090  29 48 04 00 02 00 01 00 00 00 00 00 00 00 00 00  )H..............\n",
      "00a0  00 00                                            ..\n",
      "None\n",
      "\n",
      "client message from 10.64.94.3\n",
      "\n",
      "client message from 10.64.94.3\n",
      "\n",
      "sender 10.26.0.210 \n",
      "header -> {'versionMajor': 0, 'versionMinor': 9, 'pduType': 15, 'pfc_flags': <Flag 9 (firstFragment+reserved)>, 'integerRepresentation': 8, 'characterRepresentation': 0, 'floatingPointRepresentation': 10, 'res': 12} \n",
      "\n",
      "0000  00 09 0F 09 80 0A 00 0C 29 A8 97 24 08 00 45 00  ........)..$..E.\n",
      "0010  00 9C 6D 0C 40 00 80 06 00 00 0A 1A 00 D2 0A 40  ..m.@..........@\n",
      "0020  5E 03 C0 5F D0 14 1E 49 11 3B A1 25 B7 E1 80 18  ^.._...I.;.%....\n",
      "0030  01 FE 73 BD 00 00 01 01 08 0A 06 95 3C 63 01 91  ..s.........<c..\n",
      "0040  7E 8E 05 00 02 03 10 00 00 00 68 00 00 00 38 85  ~.........h...8.\n",
      "0050  03 00 50 00 00 00 03 00 00 00 00 00 00 00 00 00  ..P.............\n",
      "0060  00 00 00 00 02 00 01 00 00 00 1E 54 78 41 80 F7  ...........TxA..\n",
      "0070  79 2A CF 66 D9 01 C0 00 00 00 55 73 65 72 00 00  y*.f......User..\n",
      "0080  00 00 03 00 00 00 00 00 00 00 04 00 19 02 0B 00  ................\n",
      "0090  00 00 04 00 00 00 BC CE 29 48 04 00 02 00 01 00  ........)H......\n",
      "00a0  00 00 00 00 00 00 00 00 00 00                    ..........\n",
      "None\n",
      "\n",
      " => {'allocHint': 593673, 'contextId': 32778, 'cancelCount': 0, 'reserved': 12, 'stubData': b')\\xa8\\x97$\\x08\\x00E\\x00\\x00\\x9cm\\x0c@\\x00\\x80\\x06\\x00\\x00\\n\\x1a\\x00\\xd2\\n@^\\x03\\xc0_\\xd0\\x14\\x1eI\\x11;\\xa1%\\xb7\\xe1\\x80\\x18\\x01\\xfes\\xbd\\x00\\x00\\x01\\x01\\x08\\n\\x06\\x95<c\\x01\\x91~\\x8e\\x05\\x00\\x02\\x03\\x10\\x00\\x00\\x00h\\x00\\x00\\x008\\x85\\x03\\x00P\\x00\\x00\\x00\\x03\\x00\\x00\\x00\\x00\\x00\\x00\\x00\\x00\\x00\\x00\\x00\\x00\\x00\\x02\\x00\\x01\\x00\\x00\\x00\\x1eTxA\\x80\\xf7y*\\xcff\\xd9\\x01\\xc0\\x00\\x00\\x00User\\x00\\x00\\x00\\x00\\x03\\x00\\x00\\x00\\x00\\x00\\x00\\x00\\x04\\x00\\x19\\x02\\x0b\\x00\\x00\\x00\\x04\\x00\\x00\\x00\\xbc\\xce)H\\x04\\x00\\x02\\x00\\x01\\x00\\x00\\x00\\x00\\x00\\x00\\x00\\x00\\x00\\x00\\x00'}\n",
      "0000  29 A8 97 24 08 00 45 00 00 9C 6D 0C 40 00 80 06  )..$..E...m.@...\n",
      "0010  00 00 0A 1A 00 D2 0A 40 5E 03 C0 5F D0 14 1E 49  .......@^.._...I\n",
      "0020  11 3B A1 25 B7 E1 80 18 01 FE 73 BD 00 00 01 01  .;.%......s.....\n",
      "0030  08 0A 06 95 3C 63 01 91 7E 8E 05 00 02 03 10 00  ....<c..~.......\n",
      "0040  00 00 68 00 00 00 38 85 03 00 50 00 00 00 03 00  ..h...8...P.....\n",
      "0050  00 00 00 00 00 00 00 00 00 00 00 00 02 00 01 00  ................\n",
      "0060  00 00 1E 54 78 41 80 F7 79 2A CF 66 D9 01 C0 00  ...TxA..y*.f....\n",
      "0070  00 00 55 73 65 72 00 00 00 00 03 00 00 00 00 00  ..User..........\n",
      "0080  00 00 04 00 19 02 0B 00 00 00 04 00 00 00 BC CE  ................\n",
      "0090  29 48 04 00 02 00 01 00 00 00 00 00 00 00 00 00  )H..............\n",
      "00a0  00 00                                            ..\n",
      "None\n",
      "\n",
      "client message from 10.64.94.3\n",
      "\n",
      "client message from 10.64.94.3\n",
      "\n",
      "sender 10.26.0.210 \n",
      "header -> {'versionMajor': 0, 'versionMinor': 9, 'pduType': 15, 'pfc_flags': <Flag 9 (firstFragment+reserved)>, 'integerRepresentation': 8, 'characterRepresentation': 0, 'floatingPointRepresentation': 10, 'res': 12} \n",
      "\n",
      "0000  00 09 0F 09 80 0A 00 0C 29 A8 97 24 08 00 45 00  ........)..$..E.\n",
      "0010  00 9C 6D 49 40 00 80 06 00 00 0A 1A 00 D2 0A 40  ..mI@..........@\n",
      "0020  5E 03 C0 5F D0 14 1E 49 11 A3 A1 25 B8 49 80 18  ^.._...I...%.I..\n",
      "0030  01 FD 73 BD 00 00 01 01 08 0A 06 95 3C C7 01 91  ..s.........<...\n",
      "0040  82 78 05 00 02 03 10 00 00 00 68 00 00 00 39 85  .x........h...9.\n",
      "0050  03 00 50 00 00 00 03 00 00 00 00 00 00 00 00 00  ..P.............\n",
      "0060  00 00 00 00 02 00 01 00 00 00 1E 54 78 41 10 B5  ...........TxA..\n",
      "0070  12 2B CF 66 D9 01 C0 00 00 00 55 73 65 72 00 00  .+.f......User..\n",
      "0080  00 00 03 00 00 00 00 00 00 00 04 00 19 02 0B 00  ................\n",
      "0090  00 00 04 00 00 00 BC CE 29 48 04 00 02 00 01 00  ........)H......\n",
      "00a0  00 00 00 00 00 00 00 00 00 00                    ..........\n",
      "None\n",
      "\n",
      " => {'allocHint': 593673, 'contextId': 32778, 'cancelCount': 0, 'reserved': 12, 'stubData': b')\\xa8\\x97$\\x08\\x00E\\x00\\x00\\x9cmI@\\x00\\x80\\x06\\x00\\x00\\n\\x1a\\x00\\xd2\\n@^\\x03\\xc0_\\xd0\\x14\\x1eI\\x11\\xa3\\xa1%\\xb8I\\x80\\x18\\x01\\xfds\\xbd\\x00\\x00\\x01\\x01\\x08\\n\\x06\\x95<\\xc7\\x01\\x91\\x82x\\x05\\x00\\x02\\x03\\x10\\x00\\x00\\x00h\\x00\\x00\\x009\\x85\\x03\\x00P\\x00\\x00\\x00\\x03\\x00\\x00\\x00\\x00\\x00\\x00\\x00\\x00\\x00\\x00\\x00\\x00\\x00\\x02\\x00\\x01\\x00\\x00\\x00\\x1eTxA\\x10\\xb5\\x12+\\xcff\\xd9\\x01\\xc0\\x00\\x00\\x00User\\x00\\x00\\x00\\x00\\x03\\x00\\x00\\x00\\x00\\x00\\x00\\x00\\x04\\x00\\x19\\x02\\x0b\\x00\\x00\\x00\\x04\\x00\\x00\\x00\\xbc\\xce)H\\x04\\x00\\x02\\x00\\x01\\x00\\x00\\x00\\x00\\x00\\x00\\x00\\x00\\x00\\x00\\x00'}\n",
      "0000  29 A8 97 24 08 00 45 00 00 9C 6D 49 40 00 80 06  )..$..E...mI@...\n",
      "0010  00 00 0A 1A 00 D2 0A 40 5E 03 C0 5F D0 14 1E 49  .......@^.._...I\n",
      "0020  11 A3 A1 25 B8 49 80 18 01 FD 73 BD 00 00 01 01  ...%.I....s.....\n",
      "0030  08 0A 06 95 3C C7 01 91 82 78 05 00 02 03 10 00  ....<....x......\n",
      "0040  00 00 68 00 00 00 39 85 03 00 50 00 00 00 03 00  ..h...9...P.....\n",
      "0050  00 00 00 00 00 00 00 00 00 00 00 00 02 00 01 00  ................\n",
      "0060  00 00 1E 54 78 41 10 B5 12 2B CF 66 D9 01 C0 00  ...TxA...+.f....\n",
      "0070  00 00 55 73 65 72 00 00 00 00 03 00 00 00 00 00  ..User..........\n",
      "0080  00 00 04 00 19 02 0B 00 00 00 04 00 00 00 BC CE  ................\n",
      "0090  29 48 04 00 02 00 01 00 00 00 00 00 00 00 00 00  )H..............\n",
      "00a0  00 00                                            ..\n",
      "None\n",
      "\n",
      "client message from 10.64.94.3\n",
      "\n",
      "client message from 10.64.94.3\n"
     ]
    }
   ],
   "source": [
    "counter = 1\n",
    "for packet in scapy_cap:\n",
    "    try:\n",
    "        if (TCP in packet and packet[TCP].dport > 20000 and packet[TCP].sport > 20000):\n",
    "            packet_bytes = bytes(packet)\n",
    "            opc_header = OpcDaHeaderMessage(packet_bytes)\n",
    "            if (packet[IP].src == server_ip):\n",
    "                print(\"\\nsender\", packet[IP].src, \"\\nheader ->\", opc_header.fields, \"\\n\" )\n",
    "                print(hexdump(packet_bytes))\n",
    "                opc = OpcDaResponse(packet_bytes)\n",
    "                print (\"\\n =>\", opc.fields)\n",
    "                print (hexdump(opc.stubData))\n",
    "            else:\n",
    "                print (\"\\nclient message from\", packet[IP].src)  \n",
    "            counter = counter + 1\n",
    "            if ( counter > 10 ):\n",
    "                break\n",
    "    except Exception as error:\n",
    "        print(\"Error on packet\", packet, \"because\\n\\t\", error.with_traceback) "
   ]
  }
 ],
 "metadata": {
  "kernelspec": {
   "display_name": "Python 3 (ipykernel)",
   "language": "python",
   "name": "python3"
  },
  "language_info": {
   "codemirror_mode": {
    "name": "ipython",
    "version": 3
   },
   "file_extension": ".py",
   "mimetype": "text/x-python",
   "name": "python",
   "nbconvert_exporter": "python",
   "pygments_lexer": "ipython3",
   "version": "3.10.10"
  }
 },
 "nbformat": 4,
 "nbformat_minor": 5
}
